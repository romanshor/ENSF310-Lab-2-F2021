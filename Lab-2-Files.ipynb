{
 "cells": [
  {
   "cell_type": "markdown",
   "metadata": {},
   "source": [
    "# Lab 2 - Loading Data From Files\n",
    "\n",
    "In this lab, you will load the monthly $CO_2$ data from the Mauna Loa Observatory and then plot it vs time.\n",
    "\n",
    "## Part 1\n",
    "First, you may need to install Pandas.  Before doing anything, try to run the code below.  If a version number is printed, then you may proceed to Part 2.  If not:\n",
    "\n",
    "If you installed Python via Anaconda, open `Anaconda Prompt` and type:\n",
    "\n",
    "`conda install pandas`\n",
    "\n",
    "If you installed Python directly via a Python installer (on windows) or via developer tools (Mac), then open `Command Prompt` (or `Terminal` on Mac) and type:\n",
    "\n",
    "`pip install pandas`\n"
   ]
  },
  {
   "cell_type": "code",
   "execution_count": 1,
   "metadata": {},
   "outputs": [
    {
     "name": "stdout",
     "output_type": "stream",
     "text": [
      "Pandas version  1.0.5  installed\n"
     ]
    }
   ],
   "source": [
    "import pandas\n",
    "print('Pandas version ', pandas.__version__, ' installed')"
   ]
  },
  {
   "cell_type": "markdown",
   "metadata": {},
   "source": [
    "## Part 2\n",
    "Before you begin this lab, please go back and complete the coding components of **Lab 1**!\n",
    "\n",
    "## Step 1\n",
    "Go to the Global Monitoring Laboratory website (<https://gml.noaa.gov/ccgg/trends/data.html>) and download the monthly mean data and place the file in the same directory as this Python Notebook.\n",
    "\n",
    "## Step 2\n",
    "Load the data using one of the methods shown in class on Thursday.  Note, you may need to determine the length of the header as the data does not start on line 1.  You may use any method, but note that each method has advantages and disadvantages.\n",
    "\n",
    "If you use Pandas, you may want to look at the documentation for the `delim_whitespace` option for `read_csv`.  Can you find a way to rename columns?"
   ]
  },
  {
   "cell_type": "code",
   "execution_count": null,
   "metadata": {},
   "outputs": [],
   "source": []
  },
  {
   "cell_type": "markdown",
   "metadata": {},
   "source": [
    "## Step 3\n",
    "Plot the average CO2 data vs year.  Be sure to have an x and y-label and a plot title.  Spend some time making your plot look neat."
   ]
  },
  {
   "cell_type": "code",
   "execution_count": null,
   "metadata": {},
   "outputs": [],
   "source": []
  },
  {
   "cell_type": "code",
   "execution_count": null,
   "metadata": {},
   "outputs": [],
   "source": []
  },
  {
   "cell_type": "markdown",
   "metadata": {},
   "source": [
    "## Submitting your Lab\n",
    "Once you have completed the lab, check your lab into your `git` repository **and** demonstrate your code to the TA, Amin."
   ]
  }
 ],
 "metadata": {
  "interpreter": {
   "hash": "532ca4eccceed63668e63435958ee5e649cbcf47c68f2e960cf9dfc9eec887ec"
  },
  "kernelspec": {
   "display_name": "Python 3",
   "language": "python",
   "name": "python3"
  },
  "language_info": {
   "codemirror_mode": {
    "name": "ipython",
    "version": 3
   },
   "file_extension": ".py",
   "mimetype": "text/x-python",
   "name": "python",
   "nbconvert_exporter": "python",
   "pygments_lexer": "ipython3",
   "version": "3.8.3"
  }
 },
 "nbformat": 4,
 "nbformat_minor": 2
}
